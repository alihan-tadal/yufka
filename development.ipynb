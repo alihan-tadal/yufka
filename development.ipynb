{
 "cells": [
  {
   "cell_type": "code",
   "execution_count": 8,
   "id": "5929acea-d6fc-46b6-860e-99e3cc716ce6",
   "metadata": {},
   "outputs": [],
   "source": [
    "TEST_TORRENT_PATH = \"./src/test/data/ubuntu-23.04-desktop-amd64.iso.torrent\""
   ]
  },
  {
   "cell_type": "code",
   "execution_count": 9,
   "id": "bb83788e-1aa1-454b-b819-f0f5fd312dd1",
   "metadata": {},
   "outputs": [],
   "source": [
    "with open(TEST_TORRENT_PATH, \"rb\") as file:\n",
    "    meta_info = file.read()"
   ]
  },
  {
   "cell_type": "code",
   "execution_count": null,
   "id": "32c2282b-8725-4ff2-a295-af9f4ac7d883",
   "metadata": {},
   "outputs": [],
   "source": []
  },
  {
   "cell_type": "code",
   "execution_count": null,
   "id": "5aa1564b-c17e-490d-ba55-be423f796a27",
   "metadata": {},
   "outputs": [],
   "source": []
  }
 ],
 "metadata": {
  "kernelspec": {
   "display_name": "Python 3 (ipykernel)",
   "language": "python",
   "name": "python3"
  },
  "language_info": {
   "codemirror_mode": {
    "name": "ipython",
    "version": 3
   },
   "file_extension": ".py",
   "mimetype": "text/x-python",
   "name": "python",
   "nbconvert_exporter": "python",
   "pygments_lexer": "ipython3",
   "version": "3.11.4"
  }
 },
 "nbformat": 4,
 "nbformat_minor": 5
}
